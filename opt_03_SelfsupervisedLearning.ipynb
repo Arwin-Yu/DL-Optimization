{
 "cells": [
  {
   "cell_type": "markdown",
   "metadata": {},
   "source": [
    "# <img src=\"./assets/course-icon.png\" style=\"height:50px;display:inline\"> Learning Methods of Deep Learning\n",
    "---\n",
    "\n",
    "create by Deepfinder\n",
    "\n"
   ]
  },
  {
   "cell_type": "markdown",
   "metadata": {},
   "source": [
    "### <img src=\"https://img.icons8.com/bubbles/50/000000/checklist.png\" style=\"height:50px;display:inline\"> Agenda\n",
    "---\n",
    "\n",
    "1. 师徒相授：有监督学习（Supervised Learning）\n",
    "2. 见微知著：无监督学习（Un-supervised Learning）\n",
    "3. **无师自通：自监督学习（Self-supervised Learning）**\n",
    "4. 以点带面：半监督学习（Semi-supervised learning）\n",
    "5. 明辨是非：对比学习（Contrastive Learning）\n",
    "6. 举一反三：迁移学习（Transfer Learning）\n",
    "7. 针锋相对：对抗学习（Adversarial Learning）\n",
    "8. 众志成城：集成学习(Ensemble Learning) \n",
    "9. 殊途同归：联邦学习（Federated Learning）\n",
    "10. 百折不挠：强化学习（Reinforcement Learning）\n",
    "11. 求知若渴：主动学习（Active Learning）\n",
    "12. 万法归宗：元学习（Meta-Learning）"
   ]
  },
  {
   "cell_type": "markdown",
   "metadata": {},
   "source": [
    "\n",
    "## Tutorial 03 - 无师自通：自监督学习（Self-supervised Learning）\n",
    "\n",
    "## <img src=\"https://img.icons8.com/cute-clipart/64/000000/task.png\" style=\"height:50px;display:inline\"> 自监督学习\n",
    "---\n",
    "* 一种无监督学习的版本，其中**数据提供监督**。\n",
    "* **想法**：保留部分数据，然后让神经网络根据剩余部分进行预测。\n",
    "\n",
    "### <img src=\"https://img.icons8.com/external-wanicon-lineal-color-wanicon/64/null/external-mask-brazilian-carnival-wanicon-lineal-color-wanicon.png\" style=\"height:50px;display:inline\"> Masked Autoencoders\n",
    "\n",
    "* <a href=\"https://arxiv.org/abs/2111.06377\">Masked Autoencoders Are Scalable Vision Learners, He et al. 2021.</a>\n"
   ]
  },
  {
   "cell_type": "markdown",
   "metadata": {},
   "source": [
    "\n",
    "<center><img src=\"./assets/MAE.png\" style=\"height:250px\">"
   ]
  },
  {
   "cell_type": "markdown",
   "metadata": {},
   "source": [
    "\n",
    "\n",
    " Masked Autoencoders (MAE) 的基本工作原理：\n",
    "\n",
    "**数据处理阶段**：\n",
    "对输入的图像分割成许多小的图像块（patches）。\n",
    "随机选择一部分图像块（通常是 75% 的图像块）进行遮掩（mask），即从输入中移除这些块。\n",
    "剩下未遮掩的图像块被送入编码器（encoder）进行特征提取。\n",
    "\n",
    "**掩码令牌** (Mask Tokens)：\n",
    "在编码器之后，将掩码块的位置用特殊的“掩码令牌”来补充。掩码令牌是用于填充被遮掩的图像块位置的特殊标记。因为解码器需要完整的图像块序列（包含未遮掩的块和遮掩的块）来重建原始图像，所以掩码令牌在遮掩块的位置上起到了占位的作用。通过解码器（decoder）对编码后的图像块和掩码令牌进行处理，尝试重建原始图像的像素。\n",
    "\n",
    "简单说，掩码令牌使解码器能够区分哪些部分是已知信息（编码器提供的未遮掩块），哪些是需要预测的未知信息（由掩码块的位置指示）。这有效地帮助解码器在训练过程中专注于重建被遮掩的部分。\n",
    "\n",
    "**使用阶段**：\n",
    "预训练完成后，解码器被丢弃，只有编码器被保留。\n",
    "对于后续任务（如图像分类或目标识别），编码器接收完整的未遮掩图像块作为输入。\n",
    "这种方法的核心思想是通过预测被遮掩的部分来让模型学习更好的图像表示。预训练阶段类似于自监督学习，通过对遮掩部分的重建来提升编码器的特征提取能力。\n",
    "\n",
    "* 代码：\n",
    "* HuggingFace：<a href=\"https://huggingface.co/docs/transformers/model_doc/vit_mae\">ViTMAE</a>\n",
    "* GitHub：<a href=\"https://github.com/facebookresearch/mae\">官方 PyTorch 实现 (FAIR)</a>、<a href=\"https://github.com/EdisonLeeeee/Awesome-Masked-Autoencoders\">超赞 MAE 模型</a>"
   ]
  },
  {
   "cell_type": "markdown",
   "metadata": {},
   "source": [
    "**Masked Language Model (MLM)**\n",
    "\n",
    "掩码语言模型是 BERT 的关键训练方式，旨在通过掩码部分输入词汇来学习上下文语义。\n",
    "\n",
    "* 训练过程：\n",
    "\n",
    "掩码随机词：\n",
    "对输入文本中的词随机选择 15% 进行处理：\n",
    "80% 的概率用 [MASK] 替换（如 \"apple\" → \"[MASK]\"）。\n",
    "10% 的概率替换为随机词（如 \"apple\" → \"orange\"）。\n",
    "10% 的概率保持原词不变（如 \"apple\" → \"apple\"）。\n",
    "\n",
    "* 目标：\n",
    "模型通过上下文预测被掩码的词。\n",
    "\n",
    "* 作用：\n",
    "通过双向上下文建模，让模型理解句子中每个词与周围词的关系，从而学习更深层次的语义表示。"
   ]
  },
  {
   "cell_type": "markdown",
   "metadata": {},
   "source": [
    "<center><img src=\"./assets/bert_1.png\" style=\"height:50px\"></center>\n",
    "\n",
    "<center><img src=\"./assets/bert_ill_1.png\" style=\"height:350px\"></center>\n",
    "\n",
    "* <a href=\"https://ai.googleblog.com/2018/11/open-sourcing-bert-state-of-art-pre.html\">Image Source 1</a>, <a href=\"http://jalammar.github.io/illustrated-bert/\">Image Source 2</a>"
   ]
  },
  {
   "cell_type": "markdown",
   "metadata": {},
   "source": [
    "**Next Sentence Prediction (NSP)**"
   ]
  },
  {
   "cell_type": "markdown",
   "metadata": {},
   "source": [
    "<center><img src=\"./assets/bert_2.png\" style=\"height:100px\"></center>\n",
    "<center><img src=\"./assets/bert_ill_2.png\" style=\"height:350px\"></center>\n",
    "\n",
    "* <a href=\"https://ai.googleblog.com/2018/11/open-sourcing-bert-state-of-art-pre.html\">Image Source 1</a>, <a href=\"http://jalammar.github.io/illustrated-bert/\">Image Source 2</a>"
   ]
  },
  {
   "cell_type": "markdown",
   "metadata": {},
   "source": [
    "#### <img src=\"https://img.icons8.com/?size=100&id=91CnU00i6HLv&format=png&color=000000\" style=\"height:50px;display:inline\"> 自监督和无监督的核心区别在哪里？"
   ]
  },
  {
   "cell_type": "code",
   "execution_count": 1,
   "metadata": {},
   "outputs": [
    {
     "name": "stderr",
     "output_type": "stream",
     "text": [
      "/home/arwin/anaconda3/envs/dt/lib/python3.8/site-packages/tqdm/auto.py:21: TqdmWarning: IProgress not found. Please update jupyter and ipywidgets. See https://ipywidgets.readthedocs.io/en/stable/user_install.html\n",
      "  from .autonotebook import tqdm as notebook_tqdm\n",
      "<frozen importlib._bootstrap>:219: RuntimeWarning: pyarrow.lib.Tensor size changed, may indicate binary incompatibility. Expected 64 from C header, got 80 from PyObject\n"
     ]
    },
    {
     "name": "stdout",
     "output_type": "stream",
     "text": [
      "Dataset splits: DatasetDict({\n",
      "    train: Dataset({\n",
      "        features: ['review', 'sentiment'],\n",
      "        num_rows: 40000\n",
      "    })\n",
      "    test: Dataset({\n",
      "        features: ['review', 'sentiment'],\n",
      "        num_rows: 10000\n",
      "    })\n",
      "})\n",
      "Train samples: 40000\n",
      "Test samples: 10000\n",
      "Train sample[0]: {'review': \"The film disappointed me for many reasons: first of all the depiction of a future which seemed at first realistic to me was well-built but did only feature a marginal role. Then, the story itself was a weak copy of Lost in Translation. The Middle-Eastern setting, man with family meets new girl overseas, karaoke bar, the camera movements and the imagery - all that was a very bad imitation of the excellent Lost in Translation which had also credibility. This movie tries to be something brilliant and cultural: it is not. I wonder why Tim Robbins even considered doing this film!? The female main actress is awful - did she play the precog in Minority Report? And why do you have to show the vagina in a movie like this? Lost in Translation didn't have to show excessive love scenes. R-Rated just for this? This movie isn't even worth watching it from a videostore!\", 'sentiment': 'negative'}\n",
      "Test sample[0]: {'review': 'Arguably the finest serial ever made(no argument here thus far) about Earthman Flash Gordon, Professor Zarkov, and beautiful Dale Arden traveling in a rocket ship to another universe to save the planet. Along the way, in spellbinding, spectacular, and action-packed chapters Flash and his friends along with new found friends such as Prince Barin, Prince Thun, and the awesome King Vultan pool their resources together to fight the evils and armies of the merciless Ming of Mongo and the jealous treachery of his daughter Priness Aura(now she\\'s a car!). This serial is not just a cut above most serials in terms of plot, acting, and budget - it is miles ahead in these areas. Produced by Universal Studios it has many former sets at its disposable like the laboratory set from The Bride of Frankenstein and the Opera House from The Phantom of the Opera just to name a few. The production values across the board are advanced, in my most humble opinion, for 1936. The costumes worn by many of these strange men and women are really creative and first-rate. We get hawk-men, shark men, lion men, high priests, creatures like dragons, octasacks, orangapoids, and tigrons(oh my!)and many, many other fantastic things. Are all of them believable and first-rate special effects? No way. But for 1936 most are very impressive. The musical score is awesome and the chapter beginnings are well-written, lengthy enough to revitalize viewer memories of the former chapter, and expertly scored. Director Frederick Stephani does a great job piecing everything together wonderfully and creating a worthy film for Alex Raymond\\'s phenom comic strip. Lastly, the acting is pretty good in this serial. All too often serials have either no names with no talent surrounding one or two former talents - here most everyone has some ability. Don\\'t get me wrong, this isn\\'t a Shakespeare troupe by any means, but Buster Crabbe does a workmanlike, likable job as Flash. He is ably aided by Jean Arden, Priscella Lawson, and the rest of the cast in general with two performers standing out. But before I get to those two let me add as another reviewer noted, it must have been amazing for this serial to get by the Hayes Office. I see more flesh on Flash and on Jean Rogers and Priscella Lawson than in movies decades later. The shorts Crabbe(and unfortunately for all of us Professor Zarkov((Frank Shannon)) wears are about as form-fitting a pair of shorts guys can wear. The girls are wearing mid drifts throughout and are absolutely beautiful Jean Rogers may have limited acting talent but she is a blonde bombshell. Lawson is also very sultry and sensuous and beautiful. But for me the two actors that make the serial are Charles Middleton as Ming: officious, sardonic, merciless, and fun. Middleton is a class act. Jack \"Tiny\" Lipson plays King Vultan: boisterous, rousing, hilarious - a symbol for pure joy in life and the every essence of hedonism. Lipson steals each and every scene he is in. The plot meanders here, there, and everywhere - but Flash Gordon is the penultimate serial, space opera, and the basis for loads of science fiction to follow. Excellent!', 'sentiment': 'positive'}\n"
     ]
    }
   ],
   "source": [
    "from datasets import load_dataset\n",
    "\n",
    "def load_and_split_dataset(csv_file_path, test_size=0.2, seed=42):\n",
    "    \"\"\"\n",
    "    从 CSV 文件中加载数据，并拆分为训练集与测试集。\n",
    "    \n",
    "    参数:\n",
    "    -------\n",
    "    csv_file_path : str\n",
    "        CSV 文件路径\n",
    "    test_size : float\n",
    "        测试集占比 (默认为 0.2, 即 20%)\n",
    "    seed : int\n",
    "        随机种子\n",
    "    \n",
    "    返回:\n",
    "    -------\n",
    "    dataset_dict : DatasetDict\n",
    "        包含 'train' 与 'test' 两个切分的 DatasetDict 对象\n",
    "    \"\"\"\n",
    "    # 1. 加载 CSV 文件（其中一列名为 \"review\", 另一列名为 \"sentiment\"）\n",
    "    raw_dataset = load_dataset(\n",
    "        \"csv\", \n",
    "        data_files=csv_file_path\n",
    "    )  \n",
    "    # 注意：此时 raw_dataset 只包含一个名为 \"train\" 的切分。\n",
    "    # 因为默认情况下读取单一文件会放在 \"train\" 这个切分下。\n",
    "    # 你可以用 raw_dataset[\"train\"] 来访问全部数据。\n",
    "\n",
    "    # 2. 把全部数据拆分成训练集和测试集（8:2）\n",
    "    # 使用 train_test_split 将原始 raw_dataset[\"train\"] 切分为 'train' 和 'test'\n",
    "    dataset_dict = raw_dataset[\"train\"].train_test_split(\n",
    "        test_size=test_size,\n",
    "        shuffle=True,\n",
    "        seed=seed\n",
    "    )\n",
    "\n",
    "    # 3. 打印数据形态与示例\n",
    "    print(f\"Dataset splits: {dataset_dict}\")\n",
    "    print(f\"Train samples: {dataset_dict['train'].num_rows}\")\n",
    "    print(f\"Test samples: {dataset_dict['test'].num_rows}\")\n",
    "    \n",
    "    # 打印前两行作为示例\n",
    "    print(\"Train sample[0]:\", dataset_dict[\"train\"][0])\n",
    "    print(\"Test sample[0]:\", dataset_dict[\"test\"][0])\n",
    "\n",
    "    # 返回包含 'train' 和 'test' 的 DatasetDict\n",
    "    return dataset_dict\n",
    "\n",
    "csv_path = \"datasets/imdb/IMDB Dataset.csv\"  # 你的 CSV 文件路径\n",
    "dataset = load_and_split_dataset(\n",
    "    csv_file_path=csv_path,\n",
    "    test_size=0.2,\n",
    "    seed=42\n",
    ")"
   ]
  },
  {
   "cell_type": "code",
   "execution_count": 2,
   "metadata": {},
   "outputs": [
    {
     "name": "stderr",
     "output_type": "stream",
     "text": [
      "BertForMaskedLM has generative capabilities, as `prepare_inputs_for_generation` is explicitly overwritten. However, it doesn't directly inherit from `GenerationMixin`. From 👉v4.50👈 onwards, `PreTrainedModel` will NOT inherit from `GenerationMixin`, and this model will lose the ability to call `generate` and other related functions.\n",
      "  - If you're using `trust_remote_code=True`, you can get rid of this warning by loading the model with an auto class. See https://huggingface.co/docs/transformers/en/model_doc/auto#auto-classes\n",
      "  - If you are the owner of the model architecture code, please modify your model class such that it inherits from `GenerationMixin` (after `PreTrainedModel`, otherwise you'll get an exception).\n",
      "  - If you are not the owner of the model architecture class, please contact the model code owner to update it.\n",
      "Some weights of the model checkpoint at datasets/bert-base-uncased were not used when initializing BertForMaskedLM: ['bert.pooler.dense.bias', 'bert.pooler.dense.weight', 'cls.seq_relationship.bias', 'cls.seq_relationship.weight']\n",
      "- This IS expected if you are initializing BertForMaskedLM from the checkpoint of a model trained on another task or with another architecture (e.g. initializing a BertForSequenceClassification model from a BertForPreTraining model).\n",
      "- This IS NOT expected if you are initializing BertForMaskedLM from the checkpoint of a model that you expect to be exactly identical (initializing a BertForSequenceClassification model from a BertForSequenceClassification model).\n",
      "/home/arwin/anaconda3/envs/dt/lib/python3.8/site-packages/transformers/training_args.py:1545: FutureWarning: `evaluation_strategy` is deprecated and will be removed in version 4.46 of 🤗 Transformers. Use `eval_strategy` instead\n",
      "  warnings.warn(\n",
      "/home/arwin/anaconda3/envs/dt/lib/python3.8/site-packages/torch/nn/parallel/parallel_apply.py:79: FutureWarning: `torch.cuda.amp.autocast(args...)` is deprecated. Please use `torch.amp.autocast('cuda', args...)` instead.\n",
      "  with torch.cuda.device(device), torch.cuda.stream(stream), autocast(enabled=autocast_enabled):\n",
      "/home/arwin/anaconda3/envs/dt/lib/python3.8/site-packages/torch/nn/parallel/_functions.py:68: UserWarning: Was asked to gather along dimension 0, but all input tensors were scalars; will instead unsqueeze and return a vector.\n",
      "  warnings.warn('Was asked to gather along dimension 0, but all '\n"
     ]
    },
    {
     "data": {
      "text/html": [
       "\n",
       "    <div>\n",
       "      \n",
       "      <progress value='2500' max='2500' style='width:300px; height:20px; vertical-align: middle;'></progress>\n",
       "      [2500/2500 20:34, Epoch 1/1]\n",
       "    </div>\n",
       "    <table border=\"1\" class=\"dataframe\">\n",
       "  <thead>\n",
       " <tr style=\"text-align: left;\">\n",
       "      <th>Epoch</th>\n",
       "      <th>Training Loss</th>\n",
       "      <th>Validation Loss</th>\n",
       "    </tr>\n",
       "  </thead>\n",
       "  <tbody>\n",
       "    <tr>\n",
       "      <td>1</td>\n",
       "      <td>1.984600</td>\n",
       "      <td>1.933474</td>\n",
       "    </tr>\n",
       "  </tbody>\n",
       "</table><p>"
      ],
      "text/plain": [
       "<IPython.core.display.HTML object>"
      ]
     },
     "metadata": {},
     "output_type": "display_data"
    },
    {
     "name": "stderr",
     "output_type": "stream",
     "text": [
      "/home/arwin/anaconda3/envs/dt/lib/python3.8/site-packages/torch/nn/parallel/parallel_apply.py:79: FutureWarning: `torch.cuda.amp.autocast(args...)` is deprecated. Please use `torch.amp.autocast('cuda', args...)` instead.\n",
      "  with torch.cuda.device(device), torch.cuda.stream(stream), autocast(enabled=autocast_enabled):\n",
      "/home/arwin/anaconda3/envs/dt/lib/python3.8/site-packages/torch/nn/parallel/_functions.py:68: UserWarning: Was asked to gather along dimension 0, but all input tensors were scalars; will instead unsqueeze and return a vector.\n",
      "  warnings.warn('Was asked to gather along dimension 0, but all '\n",
      "/home/arwin/anaconda3/envs/dt/lib/python3.8/site-packages/torch/nn/parallel/parallel_apply.py:79: FutureWarning: `torch.cuda.amp.autocast(args...)` is deprecated. Please use `torch.amp.autocast('cuda', args...)` instead.\n",
      "  with torch.cuda.device(device), torch.cuda.stream(stream), autocast(enabled=autocast_enabled):\n",
      "/home/arwin/anaconda3/envs/dt/lib/python3.8/site-packages/torch/nn/parallel/_functions.py:68: UserWarning: Was asked to gather along dimension 0, but all input tensors were scalars; will instead unsqueeze and return a vector.\n",
      "  warnings.warn('Was asked to gather along dimension 0, but all '\n",
      "/home/arwin/anaconda3/envs/dt/lib/python3.8/site-packages/torch/nn/parallel/parallel_apply.py:79: FutureWarning: `torch.cuda.amp.autocast(args...)` is deprecated. Please use `torch.amp.autocast('cuda', args...)` instead.\n",
      "  with torch.cuda.device(device), torch.cuda.stream(stream), autocast(enabled=autocast_enabled):\n",
      "/home/arwin/anaconda3/envs/dt/lib/python3.8/site-packages/torch/nn/parallel/_functions.py:68: UserWarning: Was asked to gather along dimension 0, but all input tensors were scalars; will instead unsqueeze and return a vector.\n",
      "  warnings.warn('Was asked to gather along dimension 0, but all '\n",
      "/home/arwin/anaconda3/envs/dt/lib/python3.8/site-packages/torch/nn/parallel/parallel_apply.py:79: FutureWarning: `torch.cuda.amp.autocast(args...)` is deprecated. Please use `torch.amp.autocast('cuda', args...)` instead.\n",
      "  with torch.cuda.device(device), torch.cuda.stream(stream), autocast(enabled=autocast_enabled):\n",
      "/home/arwin/anaconda3/envs/dt/lib/python3.8/site-packages/torch/nn/parallel/_functions.py:68: UserWarning: Was asked to gather along dimension 0, but all input tensors were scalars; will instead unsqueeze and return a vector.\n",
      "  warnings.warn('Was asked to gather along dimension 0, but all '\n",
      "/home/arwin/anaconda3/envs/dt/lib/python3.8/site-packages/torch/nn/parallel/parallel_apply.py:79: FutureWarning: `torch.cuda.amp.autocast(args...)` is deprecated. Please use `torch.amp.autocast('cuda', args...)` instead.\n",
      "  with torch.cuda.device(device), torch.cuda.stream(stream), autocast(enabled=autocast_enabled):\n",
      "/home/arwin/anaconda3/envs/dt/lib/python3.8/site-packages/torch/nn/parallel/_functions.py:68: UserWarning: Was asked to gather along dimension 0, but all input tensors were scalars; will instead unsqueeze and return a vector.\n",
      "  warnings.warn('Was asked to gather along dimension 0, but all '\n"
     ]
    },
    {
     "data": {
      "text/html": [
       "\n",
       "    <div>\n",
       "      \n",
       "      <progress value='625' max='625' style='width:300px; height:20px; vertical-align: middle;'></progress>\n",
       "      [625/625 02:10]\n",
       "    </div>\n",
       "    "
      ],
      "text/plain": [
       "<IPython.core.display.HTML object>"
      ]
     },
     "metadata": {},
     "output_type": "display_data"
    },
    {
     "name": "stdout",
     "output_type": "stream",
     "text": [
      "{'eval_loss': 1.9387198686599731, 'eval_runtime': 130.2856, 'eval_samples_per_second': 76.754, 'eval_steps_per_second': 4.797, 'epoch': 1.0}\n"
     ]
    }
   ],
   "source": [
    "\n",
    "import torch\n",
    "from datasets import load_dataset\n",
    "from transformers import (\n",
    "    BertTokenizer,\n",
    "    BertForMaskedLM,\n",
    "    DataCollatorForLanguageModeling,\n",
    "    TrainingArguments,\n",
    "    Trainer\n",
    ")\n",
    "\n",
    "# 1. 加载 IMDB 数据集\n",
    "#    数据集包含 \"train\" 和 \"test\" 两个切分，每条数据包含 \"text\" 和 \"label\" 字段。\n",
    "imdb_dataset = dataset\n",
    "\n",
    "# 2. 初始化分词器（Tokenizer）\n",
    "tokenizer = BertTokenizer.from_pretrained(\"datasets/bert-base-uncased\")\n",
    "\n",
    "# 3. 定义分词函数，并对数据集进行分词与数值化\n",
    "#    - `padding=\"max_length\"`: 将句子补到同样长度\n",
    "#    - `truncation=True`    : 超过指定长度会进行截断\n",
    "#    - `max_length=128`     : 统一到 128 的序列长度\n",
    "def tokenize_function(examples):\n",
    "    # 注意列名用 \"review\"\n",
    "    return tokenizer(\n",
    "        examples[\"review\"],\n",
    "        padding=\"max_length\",\n",
    "        truncation=True,\n",
    "        max_length=128\n",
    "    )\n",
    "\n",
    "# remove_columns=[\"review\"] 表示处理后去掉原始文本列，只保留模型所需的字段\n",
    "tokenized_imdb = imdb_dataset.map(\n",
    "    tokenize_function, \n",
    "    batched=True, \n",
    "    remove_columns=[\"review\"]\n",
    ")\n",
    "\n",
    "# 4. 准备 DataCollator\n",
    "#    DataCollatorForLanguageModeling 会自动对 batch 内的句子进行随机 Mask\n",
    "#    mlm_probability=0.15 表示在一个句子中有 15% 的 Token 被随机 Mask。\n",
    "data_collator = DataCollatorForLanguageModeling(\n",
    "    tokenizer=tokenizer,\n",
    "    mlm=True,\n",
    "    mlm_probability=0.15\n",
    ")\n",
    "\n",
    "# 5. 定义 BERT MLM 模型\n",
    "model = BertForMaskedLM.from_pretrained(\"datasets/bert-base-uncased\")\n",
    "\n",
    "# 6. 训练配置\n",
    "training_args = TrainingArguments(\n",
    "    output_dir=\"./mlm_imdb_bert\",      # 模型输出路径\n",
    "    evaluation_strategy=\"epoch\",       # 每个 epoch 结束后进行一次评估\n",
    "    per_device_train_batch_size=8,     # 训练时每块 GPU/CPU 的 batch size\n",
    "    per_device_eval_batch_size=8,      # 测试时每块 GPU/CPU 的 batch size\n",
    "    num_train_epochs=1,                # 演示用训练轮数，可根据需要修改\n",
    "    logging_steps=100,                 # 每隔多少步打印日志\n",
    "    save_steps=500                     # 多少步保存一次模型\n",
    ")\n",
    "\n",
    "# 7. 用 Trainer 来封装训练流程\n",
    "trainer = Trainer(\n",
    "    model=model,\n",
    "    args=training_args,\n",
    "    train_dataset=tokenized_imdb[\"train\"],  # 训练集\n",
    "    eval_dataset=tokenized_imdb[\"test\"],    # 测试集\n",
    "    data_collator=data_collator\n",
    ")\n",
    "\n",
    "# 8. 进行训练\n",
    "trainer.train()\n",
    "\n",
    "# 9. 训练完成后，可使用 trainer.evaluate() 对测试集进行评估\n",
    "eval_results = trainer.evaluate()\n",
    "print(eval_results)\n"
   ]
  },
  {
   "cell_type": "markdown",
   "metadata": {},
   "source": [
    "## <img src=\"https://img.icons8.com/dusk/64/000000/prize.png\" style=\"height:50px;display:inline\"> Credits\n",
    "---\n",
    "* Icons made by <a href=\"https://www.flaticon.com/authors/becris\" title=\"Becris\">Becris</a> from <a href=\"https://www.flaticon.com/\" title=\"Flaticon\">www.flaticon.com</a>\n",
    "* Icons from <a href=\"https://icons8.com/\">Icons8.com</a> - https://icons8.com\n",
    "* Datasets from <a href=\"https://www.kaggle.com/\">Kaggle</a> - https://www.kaggle.com/\n",
    "* <a href=\"https://machinelearningmastery.com/why-initialize-a-neural-network-with-random-weights/\">Jason Brownlee - Why Initialize a Neural Network with Random Weights?</a>\n",
    "* <a href=\"https://openai.com/blog/deep-double-descent/\">OpenAI - Deep Double Descent</a>\n",
    "* <a href=\"https://taldatech.github.io\">Tal Daniel</a>"
   ]
  }
 ],
 "metadata": {
  "kernelspec": {
   "display_name": "dt",
   "language": "python",
   "name": "python3"
  },
  "language_info": {
   "codemirror_mode": {
    "name": "ipython",
    "version": 3
   },
   "file_extension": ".py",
   "mimetype": "text/x-python",
   "name": "python",
   "nbconvert_exporter": "python",
   "pygments_lexer": "ipython3",
   "version": "3.8.19"
  }
 },
 "nbformat": 4,
 "nbformat_minor": 4
}
